{
 "cells": [
  {
   "cell_type": "code",
   "execution_count": 1,
   "metadata": {},
   "outputs": [
    {
     "data": {
      "text/html": [
       "        <script type=\"text/javascript\">\n",
       "        window.PlotlyConfig = {MathJaxConfig: 'local'};\n",
       "        if (window.MathJax) {MathJax.Hub.Config({SVG: {font: \"STIX-Web\"}});}\n",
       "        if (typeof require !== 'undefined') {\n",
       "        require.undef(\"plotly\");\n",
       "        requirejs.config({\n",
       "            paths: {\n",
       "                'plotly': ['https://cdn.plot.ly/plotly-latest.min']\n",
       "            }\n",
       "        });\n",
       "        require(['plotly'], function(Plotly) {\n",
       "            window._Plotly = Plotly;\n",
       "        });\n",
       "        }\n",
       "        </script>\n",
       "        "
      ]
     },
     "metadata": {},
     "output_type": "display_data"
    }
   ],
   "source": [
    "%matplotlib inline\n",
    "import pandas as pd\n",
    "import numpy as np\n",
    "from matplotlib import pyplot as plt\n",
    "plt.style.use('ggplot')\n",
    "\n",
    "import seaborn as sns # for making plots with seaborn\n",
    "color = sns.color_palette()\n",
    "sns.set(rc={'figure.figsize':(25,15)})\n",
    "\n",
    "import plotly\n",
    "# connected=True means it will download the latest version of plotly javascript library.\n",
    "plotly.offline.init_notebook_mode(connected=True)\n",
    "import plotly.graph_objs as go\n",
    "\n",
    "import plotly.figure_factory as ff\n",
    "#import cufflinks as cf\n",
    "\n",
    "\n",
    "import warnings\n",
    "warnings.filterwarnings('ignore')\n",
    "\n",
    "import sys\n",
    "sys.path.append('./src/')\n"
   ]
  },
  {
   "cell_type": "markdown",
   "metadata": {},
   "source": [
    "###  Dataset:"
   ]
  },
  {
   "cell_type": "markdown",
   "metadata": {},
   "source": [
    "https://pandas.pydata.org/pandas-docs/stable/reference/api/pandas.DataFrame.sample.html"
   ]
  },
  {
   "cell_type": "code",
   "execution_count": 2,
   "metadata": {},
   "outputs": [
    {
     "name": "stdout",
     "output_type": "stream",
     "text": [
      "App               9659\n",
      "Category          9659\n",
      "Rating            8196\n",
      "Reviews           9659\n",
      "Size              9659\n",
      "Installs          9659\n",
      "Type              9658\n",
      "Price             9659\n",
      "Content Rating    9659\n",
      "Genres            9659\n",
      "Last Updated      9659\n",
      "Current Ver       9651\n",
      "Android Ver       9657\n",
      "dtype: int64\n",
      "['ART_AND_DESIGN' 'AUTO_AND_VEHICLES' 'BEAUTY' 'BOOKS_AND_REFERENCE'\n",
      " 'BUSINESS' 'COMICS' 'COMMUNICATION' 'DATING' 'EDUCATION' 'ENTERTAINMENT'\n",
      " 'EVENTS' 'FINANCE' 'FOOD_AND_DRINK' 'HEALTH_AND_FITNESS' 'HOUSE_AND_HOME'\n",
      " 'LIBRARIES_AND_DEMO' 'LIFESTYLE' 'GAME' 'FAMILY' 'MEDICAL' 'SOCIAL'\n",
      " 'SHOPPING' 'PHOTOGRAPHY' 'SPORTS' 'TRAVEL_AND_LOCAL' 'TOOLS'\n",
      " 'PERSONALIZATION' 'PRODUCTIVITY' 'PARENTING' 'WEATHER' 'VIDEO_PLAYERS'\n",
      " 'NEWS_AND_MAGAZINES' 'MAPS_AND_NAVIGATION']\n"
     ]
    }
   ],
   "source": [
    "import read_and_show as rs\n",
    "\n",
    "df = rs.read_and_show()"
   ]
  },
  {
   "cell_type": "markdown",
   "metadata": {},
   "source": [
    "### Data Cleaning:\n",
    " - Convert all app sizes to MB\n",
    " - Remove '+' from 'Number of Installs' to make it numeric\n",
    " - Convert all review text to English language using Google Translator library"
   ]
  },
  {
   "cell_type": "code",
   "execution_count": 3,
   "metadata": {},
   "outputs": [
    {
     "name": "stdout",
     "output_type": "stream",
     "text": [
      "<class 'numpy.ndarray'>\n"
     ]
    },
    {
     "data": {
      "text/html": [
       "<div>\n",
       "<style scoped>\n",
       "    .dataframe tbody tr th:only-of-type {\n",
       "        vertical-align: middle;\n",
       "    }\n",
       "\n",
       "    .dataframe tbody tr th {\n",
       "        vertical-align: top;\n",
       "    }\n",
       "\n",
       "    .dataframe thead th {\n",
       "        text-align: right;\n",
       "    }\n",
       "</style>\n",
       "<table border=\"1\" class=\"dataframe\">\n",
       "  <thead>\n",
       "    <tr style=\"text-align: right;\">\n",
       "      <th></th>\n",
       "      <th>App</th>\n",
       "      <th>Category</th>\n",
       "      <th>Rating</th>\n",
       "      <th>Reviews</th>\n",
       "      <th>Size</th>\n",
       "      <th>Installs</th>\n",
       "      <th>Type</th>\n",
       "      <th>Price</th>\n",
       "      <th>Content Rating</th>\n",
       "      <th>Genres</th>\n",
       "      <th>Last Updated</th>\n",
       "      <th>Current Ver</th>\n",
       "      <th>Android Ver</th>\n",
       "    </tr>\n",
       "  </thead>\n",
       "  <tbody>\n",
       "    <tr>\n",
       "      <td>0</td>\n",
       "      <td>Photo Editor &amp; Candy Camera &amp; Grid &amp; ScrapBook</td>\n",
       "      <td>ART_AND_DESIGN</td>\n",
       "      <td>4.1</td>\n",
       "      <td>159</td>\n",
       "      <td>19.0</td>\n",
       "      <td>10000.0</td>\n",
       "      <td>Free</td>\n",
       "      <td>0.0</td>\n",
       "      <td>Everyone</td>\n",
       "      <td>Art &amp; Design</td>\n",
       "      <td>January 7, 2018</td>\n",
       "      <td>1.0.0</td>\n",
       "      <td>4.0.3 and up</td>\n",
       "    </tr>\n",
       "    <tr>\n",
       "      <td>1</td>\n",
       "      <td>Coloring book moana</td>\n",
       "      <td>ART_AND_DESIGN</td>\n",
       "      <td>3.9</td>\n",
       "      <td>967</td>\n",
       "      <td>14.0</td>\n",
       "      <td>500000.0</td>\n",
       "      <td>Free</td>\n",
       "      <td>0.0</td>\n",
       "      <td>Everyone</td>\n",
       "      <td>Art &amp; Design;Pretend Play</td>\n",
       "      <td>January 15, 2018</td>\n",
       "      <td>2.0.0</td>\n",
       "      <td>4.0.3 and up</td>\n",
       "    </tr>\n",
       "    <tr>\n",
       "      <td>2</td>\n",
       "      <td>U Launcher Lite – FREE Live Cool Themes, Hide ...</td>\n",
       "      <td>ART_AND_DESIGN</td>\n",
       "      <td>4.7</td>\n",
       "      <td>87510</td>\n",
       "      <td>8.7</td>\n",
       "      <td>5000000.0</td>\n",
       "      <td>Free</td>\n",
       "      <td>0.0</td>\n",
       "      <td>Everyone</td>\n",
       "      <td>Art &amp; Design</td>\n",
       "      <td>August 1, 2018</td>\n",
       "      <td>1.2.4</td>\n",
       "      <td>4.0.3 and up</td>\n",
       "    </tr>\n",
       "    <tr>\n",
       "      <td>3</td>\n",
       "      <td>Sketch - Draw &amp; Paint</td>\n",
       "      <td>ART_AND_DESIGN</td>\n",
       "      <td>4.5</td>\n",
       "      <td>215644</td>\n",
       "      <td>25.0</td>\n",
       "      <td>50000000.0</td>\n",
       "      <td>Free</td>\n",
       "      <td>0.0</td>\n",
       "      <td>Teen</td>\n",
       "      <td>Art &amp; Design</td>\n",
       "      <td>June 8, 2018</td>\n",
       "      <td>Varies with device</td>\n",
       "      <td>4.2 and up</td>\n",
       "    </tr>\n",
       "    <tr>\n",
       "      <td>4</td>\n",
       "      <td>Pixel Draw - Number Art Coloring Book</td>\n",
       "      <td>ART_AND_DESIGN</td>\n",
       "      <td>4.3</td>\n",
       "      <td>967</td>\n",
       "      <td>2.8</td>\n",
       "      <td>100000.0</td>\n",
       "      <td>Free</td>\n",
       "      <td>0.0</td>\n",
       "      <td>Everyone</td>\n",
       "      <td>Art &amp; Design;Creativity</td>\n",
       "      <td>June 20, 2018</td>\n",
       "      <td>1.1</td>\n",
       "      <td>4.4 and up</td>\n",
       "    </tr>\n",
       "    <tr>\n",
       "      <td>...</td>\n",
       "      <td>...</td>\n",
       "      <td>...</td>\n",
       "      <td>...</td>\n",
       "      <td>...</td>\n",
       "      <td>...</td>\n",
       "      <td>...</td>\n",
       "      <td>...</td>\n",
       "      <td>...</td>\n",
       "      <td>...</td>\n",
       "      <td>...</td>\n",
       "      <td>...</td>\n",
       "      <td>...</td>\n",
       "      <td>...</td>\n",
       "    </tr>\n",
       "    <tr>\n",
       "      <td>10836</td>\n",
       "      <td>Sya9a Maroc - FR</td>\n",
       "      <td>FAMILY</td>\n",
       "      <td>4.5</td>\n",
       "      <td>38</td>\n",
       "      <td>53.0</td>\n",
       "      <td>5000.0</td>\n",
       "      <td>Free</td>\n",
       "      <td>0.0</td>\n",
       "      <td>Everyone</td>\n",
       "      <td>Education</td>\n",
       "      <td>July 25, 2017</td>\n",
       "      <td>1.48</td>\n",
       "      <td>4.1 and up</td>\n",
       "    </tr>\n",
       "    <tr>\n",
       "      <td>10837</td>\n",
       "      <td>Fr. Mike Schmitz Audio Teachings</td>\n",
       "      <td>FAMILY</td>\n",
       "      <td>5.0</td>\n",
       "      <td>4</td>\n",
       "      <td>3.6</td>\n",
       "      <td>100.0</td>\n",
       "      <td>Free</td>\n",
       "      <td>0.0</td>\n",
       "      <td>Everyone</td>\n",
       "      <td>Education</td>\n",
       "      <td>July 6, 2018</td>\n",
       "      <td>1.0</td>\n",
       "      <td>4.1 and up</td>\n",
       "    </tr>\n",
       "    <tr>\n",
       "      <td>10838</td>\n",
       "      <td>Parkinson Exercices FR</td>\n",
       "      <td>MEDICAL</td>\n",
       "      <td>NaN</td>\n",
       "      <td>3</td>\n",
       "      <td>9.5</td>\n",
       "      <td>1000.0</td>\n",
       "      <td>Free</td>\n",
       "      <td>0.0</td>\n",
       "      <td>Everyone</td>\n",
       "      <td>Medical</td>\n",
       "      <td>January 20, 2017</td>\n",
       "      <td>1.0</td>\n",
       "      <td>2.2 and up</td>\n",
       "    </tr>\n",
       "    <tr>\n",
       "      <td>10839</td>\n",
       "      <td>The SCP Foundation DB fr nn5n</td>\n",
       "      <td>BOOKS_AND_REFERENCE</td>\n",
       "      <td>4.5</td>\n",
       "      <td>114</td>\n",
       "      <td>NaN</td>\n",
       "      <td>1000.0</td>\n",
       "      <td>Free</td>\n",
       "      <td>0.0</td>\n",
       "      <td>Mature 17+</td>\n",
       "      <td>Books &amp; Reference</td>\n",
       "      <td>January 19, 2015</td>\n",
       "      <td>Varies with device</td>\n",
       "      <td>Varies with device</td>\n",
       "    </tr>\n",
       "    <tr>\n",
       "      <td>10840</td>\n",
       "      <td>iHoroscope - 2018 Daily Horoscope &amp; Astrology</td>\n",
       "      <td>LIFESTYLE</td>\n",
       "      <td>4.5</td>\n",
       "      <td>398307</td>\n",
       "      <td>19.0</td>\n",
       "      <td>10000000.0</td>\n",
       "      <td>Free</td>\n",
       "      <td>0.0</td>\n",
       "      <td>Everyone</td>\n",
       "      <td>Lifestyle</td>\n",
       "      <td>July 25, 2018</td>\n",
       "      <td>Varies with device</td>\n",
       "      <td>Varies with device</td>\n",
       "    </tr>\n",
       "  </tbody>\n",
       "</table>\n",
       "<p>9659 rows × 13 columns</p>\n",
       "</div>"
      ],
      "text/plain": [
       "                                                     App             Category  \\\n",
       "0         Photo Editor & Candy Camera & Grid & ScrapBook       ART_AND_DESIGN   \n",
       "1                                    Coloring book moana       ART_AND_DESIGN   \n",
       "2      U Launcher Lite – FREE Live Cool Themes, Hide ...       ART_AND_DESIGN   \n",
       "3                                  Sketch - Draw & Paint       ART_AND_DESIGN   \n",
       "4                  Pixel Draw - Number Art Coloring Book       ART_AND_DESIGN   \n",
       "...                                                  ...                  ...   \n",
       "10836                                   Sya9a Maroc - FR               FAMILY   \n",
       "10837                   Fr. Mike Schmitz Audio Teachings               FAMILY   \n",
       "10838                             Parkinson Exercices FR              MEDICAL   \n",
       "10839                      The SCP Foundation DB fr nn5n  BOOKS_AND_REFERENCE   \n",
       "10840      iHoroscope - 2018 Daily Horoscope & Astrology            LIFESTYLE   \n",
       "\n",
       "       Rating  Reviews  Size    Installs  Type  Price Content Rating  \\\n",
       "0         4.1      159  19.0     10000.0  Free    0.0       Everyone   \n",
       "1         3.9      967  14.0    500000.0  Free    0.0       Everyone   \n",
       "2         4.7    87510   8.7   5000000.0  Free    0.0       Everyone   \n",
       "3         4.5   215644  25.0  50000000.0  Free    0.0           Teen   \n",
       "4         4.3      967   2.8    100000.0  Free    0.0       Everyone   \n",
       "...       ...      ...   ...         ...   ...    ...            ...   \n",
       "10836     4.5       38  53.0      5000.0  Free    0.0       Everyone   \n",
       "10837     5.0        4   3.6       100.0  Free    0.0       Everyone   \n",
       "10838     NaN        3   9.5      1000.0  Free    0.0       Everyone   \n",
       "10839     4.5      114   NaN      1000.0  Free    0.0     Mature 17+   \n",
       "10840     4.5   398307  19.0  10000000.0  Free    0.0       Everyone   \n",
       "\n",
       "                          Genres      Last Updated         Current Ver  \\\n",
       "0                   Art & Design   January 7, 2018               1.0.0   \n",
       "1      Art & Design;Pretend Play  January 15, 2018               2.0.0   \n",
       "2                   Art & Design    August 1, 2018               1.2.4   \n",
       "3                   Art & Design      June 8, 2018  Varies with device   \n",
       "4        Art & Design;Creativity     June 20, 2018                 1.1   \n",
       "...                          ...               ...                 ...   \n",
       "10836                  Education     July 25, 2017                1.48   \n",
       "10837                  Education      July 6, 2018                 1.0   \n",
       "10838                    Medical  January 20, 2017                 1.0   \n",
       "10839          Books & Reference  January 19, 2015  Varies with device   \n",
       "10840                  Lifestyle     July 25, 2018  Varies with device   \n",
       "\n",
       "              Android Ver  \n",
       "0            4.0.3 and up  \n",
       "1            4.0.3 and up  \n",
       "2            4.0.3 and up  \n",
       "3              4.2 and up  \n",
       "4              4.4 and up  \n",
       "...                   ...  \n",
       "10836          4.1 and up  \n",
       "10837          4.1 and up  \n",
       "10838          2.2 and up  \n",
       "10839  Varies with device  \n",
       "10840  Varies with device  \n",
       "\n",
       "[9659 rows x 13 columns]"
      ]
     },
     "execution_count": 3,
     "metadata": {},
     "output_type": "execute_result"
    }
   ],
   "source": [
    "rs.clean_data(df)"
   ]
  },
  {
   "cell_type": "markdown",
   "metadata": {},
   "source": [
    "###  Basic EDA:"
   ]
  },
  {
   "cell_type": "markdown",
   "metadata": {},
   "source": [
    "https://pandas.pydata.org/pandas-docs/stable/reference/api/pandas.DataFrame.dropna.html\n",
    "seaborn : https://seaborn.pydata.org/\n",
    "https://pythonbasics.org/seaborn-pairplot/\n",
    "https://www.edureka.co/blog/python-seaborn-tutorial/\n",
    "\n",
    "This is the basic exploratory analysis to look for any evident patterns or relationships between the features. \n",
    "\n",
    "how did we get free and paid points here?\n",
    "https://seaborn.pydata.org/tutorial/color_palettes.html"
   ]
  },
  {
   "cell_type": "markdown",
   "metadata": {},
   "source": [
    "### Installs\n",
    "\n",
    "### Android market breakdown:\n",
    "\n",
    "Which category has the highest share of (active) apps in the market?\n",
    "\n",
    "https://plot.ly/python/pie-charts/"
   ]
  },
  {
   "cell_type": "code",
   "execution_count": 4,
   "metadata": {},
   "outputs": [
    {
     "name": "stdout",
     "output_type": "stream",
     "text": [
      "BEAUTY                   53\n",
      "COMICS                   56\n",
      "PARENTING                60\n",
      "ART_AND_DESIGN           64\n",
      "EVENTS                   64\n",
      "HOUSE_AND_HOME           74\n",
      "WEATHER                  79\n",
      "LIBRARIES_AND_DEMO       84\n",
      "AUTO_AND_VEHICLES        85\n",
      "ENTERTAINMENT           102\n",
      "FOOD_AND_DRINK          112\n",
      "EDUCATION               119\n",
      "MAPS_AND_NAVIGATION     131\n",
      "VIDEO_PLAYERS           163\n",
      "DATING                  171\n",
      "SHOPPING                202\n",
      "TRAVEL_AND_LOCAL        219\n",
      "BOOKS_AND_REFERENCE     222\n",
      "SOCIAL                  239\n",
      "NEWS_AND_MAGAZINES      254\n",
      "PHOTOGRAPHY             281\n",
      "HEALTH_AND_FITNESS      288\n",
      "COMMUNICATION           315\n",
      "SPORTS                  325\n",
      "FINANCE                 345\n",
      "LIFESTYLE               369\n",
      "PRODUCTIVITY            374\n",
      "PERSONALIZATION         376\n",
      "MEDICAL                 395\n",
      "BUSINESS                420\n",
      "TOOLS                   827\n",
      "GAME                    959\n",
      "FAMILY                 1832\n",
      "Name: Category, dtype: int64\n"
     ]
    },
    {
     "data": {
      "image/png": "[encoded data removed]",
      "text/plain": [
       "<Figure size 720x720 with 1 Axes>"
      ]
     },
     "metadata": {
      "needs_background": "light"
     },
     "output_type": "display_data"
    }
   ],
   "source": [
    "import eda as eda\n",
    "eda.show_top_categories(df)"
   ]
  },
  {
   "cell_type": "markdown",
   "metadata": {},
   "source": [
    "- **Family** and **Game** apps have the highest market prevelance. \n",
    "- Interestingly, **Tools, Business and Medical** apps are also catching up."
   ]
  },
  {
   "cell_type": "code",
   "execution_count": 5,
   "metadata": {},
   "outputs": [
    {
     "data": {
      "image/png": "[encoded data removed]",
      "text/plain": [
       "<Figure size 720x720 with 1 Axes>"
      ]
     },
     "metadata": {
      "needs_background": "light"
     },
     "output_type": "display_data"
    }
   ],
   "source": [
    "eda.show_categories_count(df)"
   ]
  },
  {
   "cell_type": "code",
   "execution_count": 6,
   "metadata": {},
   "outputs": [
    {
     "data": {
      "image/png": "[encoded data removed]",
      "text/plain": [
       "<Figure size 720x720 with 1 Axes>"
      ]
     },
     "metadata": {
      "needs_background": "light"
     },
     "output_type": "display_data"
    }
   ],
   "source": [
    "eda.show_categories_freeVspaid(df)"
   ]
  },
  {
   "cell_type": "code",
   "execution_count": 7,
   "metadata": {},
   "outputs": [
    {
     "data": {
      "image/png": "[encoded data removed]",
      "text/plain": [
       "<Figure size 576x576 with 1 Axes>"
      ]
     },
     "metadata": {},
     "output_type": "display_data"
    }
   ],
   "source": [
    "eda.show_freeVspaid(df)"
   ]
  },
  {
   "cell_type": "markdown",
   "metadata": {},
   "source": [
    "### Number of Installs in each category"
   ]
  },
  {
   "cell_type": "code",
   "execution_count": 8,
   "metadata": {},
   "outputs": [
    {
     "data": {
      "image/png": "[encoded data removed]",
      "text/plain": [
       "<Figure size 720x720 with 1 Axes>"
      ]
     },
     "metadata": {
      "needs_background": "light"
     },
     "output_type": "display_data"
    }
   ],
   "source": [
    "eda.show_installations_categories(df)"
   ]
  },
  {
   "cell_type": "code",
   "execution_count": 9,
   "metadata": {},
   "outputs": [
    {
     "data": {
      "image/png": "[encoded data removed]",
      "text/plain": [
       "<Figure size 720x720 with 1 Axes>"
      ]
     },
     "metadata": {
      "needs_background": "light"
     },
     "output_type": "display_data"
    }
   ],
   "source": [
    "eda.show_installations_freeVspaid(df)"
   ]
  },
  {
   "cell_type": "markdown",
   "metadata": {},
   "source": [
    "### Top 10 downloaded free apps"
   ]
  },
  {
   "cell_type": "code",
   "execution_count": 10,
   "metadata": {},
   "outputs": [
    {
     "data": {
      "text/html": [
       "<div>\n",
       "<style scoped>\n",
       "    .dataframe tbody tr th:only-of-type {\n",
       "        vertical-align: middle;\n",
       "    }\n",
       "\n",
       "    .dataframe tbody tr th {\n",
       "        vertical-align: top;\n",
       "    }\n",
       "\n",
       "    .dataframe thead th {\n",
       "        text-align: right;\n",
       "    }\n",
       "</style>\n",
       "<table border=\"1\" class=\"dataframe\">\n",
       "  <thead>\n",
       "    <tr style=\"text-align: right;\">\n",
       "      <th></th>\n",
       "      <th>App</th>\n",
       "      <th>Installs</th>\n",
       "      <th>Category</th>\n",
       "      <th>Type</th>\n",
       "    </tr>\n",
       "  </thead>\n",
       "  <tbody>\n",
       "    <tr>\n",
       "      <td>152</td>\n",
       "      <td>Google Play Books</td>\n",
       "      <td>1 Billion</td>\n",
       "      <td>BOOKS_AND_REFERENCE</td>\n",
       "      <td>Free</td>\n",
       "    </tr>\n",
       "    <tr>\n",
       "      <td>336</td>\n",
       "      <td>WhatsApp Messenger</td>\n",
       "      <td>1 Billion</td>\n",
       "      <td>COMMUNICATION</td>\n",
       "      <td>Free</td>\n",
       "    </tr>\n",
       "    <tr>\n",
       "      <td>335</td>\n",
       "      <td>Messenger – Text and Video Chat for Free</td>\n",
       "      <td>1 Billion</td>\n",
       "      <td>COMMUNICATION</td>\n",
       "      <td>Free</td>\n",
       "    </tr>\n",
       "    <tr>\n",
       "      <td>391</td>\n",
       "      <td>Skype - free IM &amp; video calls</td>\n",
       "      <td>1 Billion</td>\n",
       "      <td>COMMUNICATION</td>\n",
       "      <td>Free</td>\n",
       "    </tr>\n",
       "    <tr>\n",
       "      <td>338</td>\n",
       "      <td>Google Chrome: Fast &amp; Secure</td>\n",
       "      <td>1 Billion</td>\n",
       "      <td>COMMUNICATION</td>\n",
       "      <td>Free</td>\n",
       "    </tr>\n",
       "    <tr>\n",
       "      <td>341</td>\n",
       "      <td>Hangouts</td>\n",
       "      <td>1 Billion</td>\n",
       "      <td>COMMUNICATION</td>\n",
       "      <td>Free</td>\n",
       "    </tr>\n",
       "    <tr>\n",
       "      <td>340</td>\n",
       "      <td>Gmail</td>\n",
       "      <td>1 Billion</td>\n",
       "      <td>COMMUNICATION</td>\n",
       "      <td>Free</td>\n",
       "    </tr>\n",
       "    <tr>\n",
       "      <td>865</td>\n",
       "      <td>Google Play Games</td>\n",
       "      <td>1 Billion</td>\n",
       "      <td>ENTERTAINMENT</td>\n",
       "      <td>Free</td>\n",
       "    </tr>\n",
       "    <tr>\n",
       "      <td>1654</td>\n",
       "      <td>Subway Surfers</td>\n",
       "      <td>1 Billion</td>\n",
       "      <td>GAME</td>\n",
       "      <td>Free</td>\n",
       "    </tr>\n",
       "    <tr>\n",
       "      <td>3736</td>\n",
       "      <td>Google News</td>\n",
       "      <td>1 Billion</td>\n",
       "      <td>NEWS_AND_MAGAZINES</td>\n",
       "      <td>Free</td>\n",
       "    </tr>\n",
       "    <tr>\n",
       "      <td>2808</td>\n",
       "      <td>Google Photos</td>\n",
       "      <td>1 Billion</td>\n",
       "      <td>PHOTOGRAPHY</td>\n",
       "      <td>Free</td>\n",
       "    </tr>\n",
       "    <tr>\n",
       "      <td>3454</td>\n",
       "      <td>Google Drive</td>\n",
       "      <td>1 Billion</td>\n",
       "      <td>PRODUCTIVITY</td>\n",
       "      <td>Free</td>\n",
       "    </tr>\n",
       "    <tr>\n",
       "      <td>2544</td>\n",
       "      <td>Facebook</td>\n",
       "      <td>1 Billion</td>\n",
       "      <td>SOCIAL</td>\n",
       "      <td>Free</td>\n",
       "    </tr>\n",
       "    <tr>\n",
       "      <td>2554</td>\n",
       "      <td>Google+</td>\n",
       "      <td>1 Billion</td>\n",
       "      <td>SOCIAL</td>\n",
       "      <td>Free</td>\n",
       "    </tr>\n",
       "    <tr>\n",
       "      <td>2545</td>\n",
       "      <td>Instagram</td>\n",
       "      <td>1 Billion</td>\n",
       "      <td>SOCIAL</td>\n",
       "      <td>Free</td>\n",
       "    </tr>\n",
       "    <tr>\n",
       "      <td>3234</td>\n",
       "      <td>Google</td>\n",
       "      <td>1 Billion</td>\n",
       "      <td>TOOLS</td>\n",
       "      <td>Free</td>\n",
       "    </tr>\n",
       "    <tr>\n",
       "      <td>3117</td>\n",
       "      <td>Maps - Navigate &amp; Explore</td>\n",
       "      <td>1 Billion</td>\n",
       "      <td>TRAVEL_AND_LOCAL</td>\n",
       "      <td>Free</td>\n",
       "    </tr>\n",
       "    <tr>\n",
       "      <td>3127</td>\n",
       "      <td>Google Street View</td>\n",
       "      <td>1 Billion</td>\n",
       "      <td>TRAVEL_AND_LOCAL</td>\n",
       "      <td>Free</td>\n",
       "    </tr>\n",
       "    <tr>\n",
       "      <td>3687</td>\n",
       "      <td>Google Play Movies &amp; TV</td>\n",
       "      <td>1 Billion</td>\n",
       "      <td>VIDEO_PLAYERS</td>\n",
       "      <td>Free</td>\n",
       "    </tr>\n",
       "    <tr>\n",
       "      <td>3665</td>\n",
       "      <td>YouTube</td>\n",
       "      <td>1 Billion</td>\n",
       "      <td>VIDEO_PLAYERS</td>\n",
       "      <td>Free</td>\n",
       "    </tr>\n",
       "  </tbody>\n",
       "</table>\n",
       "</div>"
      ],
      "text/plain": [
       "                                           App   Installs  \\\n",
       "152                          Google Play Books  1 Billion   \n",
       "336                         WhatsApp Messenger  1 Billion   \n",
       "335   Messenger – Text and Video Chat for Free  1 Billion   \n",
       "391              Skype - free IM & video calls  1 Billion   \n",
       "338               Google Chrome: Fast & Secure  1 Billion   \n",
       "341                                   Hangouts  1 Billion   \n",
       "340                                      Gmail  1 Billion   \n",
       "865                          Google Play Games  1 Billion   \n",
       "1654                            Subway Surfers  1 Billion   \n",
       "3736                               Google News  1 Billion   \n",
       "2808                             Google Photos  1 Billion   \n",
       "3454                              Google Drive  1 Billion   \n",
       "2544                                  Facebook  1 Billion   \n",
       "2554                                   Google+  1 Billion   \n",
       "2545                                 Instagram  1 Billion   \n",
       "3234                                    Google  1 Billion   \n",
       "3117                 Maps - Navigate & Explore  1 Billion   \n",
       "3127                        Google Street View  1 Billion   \n",
       "3687                   Google Play Movies & TV  1 Billion   \n",
       "3665                                   YouTube  1 Billion   \n",
       "\n",
       "                 Category  Type  \n",
       "152   BOOKS_AND_REFERENCE  Free  \n",
       "336         COMMUNICATION  Free  \n",
       "335         COMMUNICATION  Free  \n",
       "391         COMMUNICATION  Free  \n",
       "338         COMMUNICATION  Free  \n",
       "341         COMMUNICATION  Free  \n",
       "340         COMMUNICATION  Free  \n",
       "865         ENTERTAINMENT  Free  \n",
       "1654                 GAME  Free  \n",
       "3736   NEWS_AND_MAGAZINES  Free  \n",
       "2808          PHOTOGRAPHY  Free  \n",
       "3454         PRODUCTIVITY  Free  \n",
       "2544               SOCIAL  Free  \n",
       "2554               SOCIAL  Free  \n",
       "2545               SOCIAL  Free  \n",
       "3234                TOOLS  Free  \n",
       "3117     TRAVEL_AND_LOCAL  Free  \n",
       "3127     TRAVEL_AND_LOCAL  Free  \n",
       "3687        VIDEO_PLAYERS  Free  \n",
       "3665        VIDEO_PLAYERS  Free  "
      ]
     },
     "execution_count": 10,
     "metadata": {},
     "output_type": "execute_result"
    }
   ],
   "source": [
    "top_installed_apps = eda.get_top_installed_apps(df)\n",
    "top_installed_apps"
   ]
  },
  {
   "cell_type": "markdown",
   "metadata": {},
   "source": [
    "### Top 10 downloaded paid apps"
   ]
  },
  {
   "cell_type": "code",
   "execution_count": 11,
   "metadata": {},
   "outputs": [
    {
     "data": {
      "text/html": [
       "<div>\n",
       "<style scoped>\n",
       "    .dataframe tbody tr th:only-of-type {\n",
       "        vertical-align: middle;\n",
       "    }\n",
       "\n",
       "    .dataframe tbody tr th {\n",
       "        vertical-align: top;\n",
       "    }\n",
       "\n",
       "    .dataframe thead th {\n",
       "        text-align: right;\n",
       "    }\n",
       "</style>\n",
       "<table border=\"1\" class=\"dataframe\">\n",
       "  <thead>\n",
       "    <tr style=\"text-align: right;\">\n",
       "      <th></th>\n",
       "      <th>App</th>\n",
       "      <th>Installs</th>\n",
       "      <th>Category</th>\n",
       "      <th>Type</th>\n",
       "    </tr>\n",
       "  </thead>\n",
       "  <tbody>\n",
       "    <tr>\n",
       "      <td>2241</td>\n",
       "      <td>Minecraft</td>\n",
       "      <td>10 Million</td>\n",
       "      <td>FAMILY</td>\n",
       "      <td>Paid</td>\n",
       "    </tr>\n",
       "    <tr>\n",
       "      <td>8860</td>\n",
       "      <td>Bloons TD 5</td>\n",
       "      <td>1 Million</td>\n",
       "      <td>FAMILY</td>\n",
       "      <td>Paid</td>\n",
       "    </tr>\n",
       "    <tr>\n",
       "      <td>6675</td>\n",
       "      <td>Infinity Dungeon VIP</td>\n",
       "      <td>1 Million</td>\n",
       "      <td>FAMILY</td>\n",
       "      <td>Paid</td>\n",
       "    </tr>\n",
       "    <tr>\n",
       "      <td>2242</td>\n",
       "      <td>Card Wars - Adventure Time</td>\n",
       "      <td>1 Million</td>\n",
       "      <td>FAMILY</td>\n",
       "      <td>Paid</td>\n",
       "    </tr>\n",
       "    <tr>\n",
       "      <td>9678</td>\n",
       "      <td>Where's My Water?</td>\n",
       "      <td>1 Million</td>\n",
       "      <td>FAMILY</td>\n",
       "      <td>Paid</td>\n",
       "    </tr>\n",
       "    <tr>\n",
       "      <td>4260</td>\n",
       "      <td>Cut the Rope GOLD</td>\n",
       "      <td>1 Million</td>\n",
       "      <td>FAMILY</td>\n",
       "      <td>Paid</td>\n",
       "    </tr>\n",
       "    <tr>\n",
       "      <td>4034</td>\n",
       "      <td>Hitman Sniper</td>\n",
       "      <td>10 Million</td>\n",
       "      <td>GAME</td>\n",
       "      <td>Paid</td>\n",
       "    </tr>\n",
       "    <tr>\n",
       "      <td>5631</td>\n",
       "      <td>Five Nights at Freddy's</td>\n",
       "      <td>1 Million</td>\n",
       "      <td>GAME</td>\n",
       "      <td>Paid</td>\n",
       "    </tr>\n",
       "    <tr>\n",
       "      <td>7417</td>\n",
       "      <td>Grand Theft Auto: San Andreas</td>\n",
       "      <td>1 Million</td>\n",
       "      <td>GAME</td>\n",
       "      <td>Paid</td>\n",
       "    </tr>\n",
       "    <tr>\n",
       "      <td>4842</td>\n",
       "      <td>Zombie Avengers:(Dreamsky)Stickman War Z</td>\n",
       "      <td>1 Million</td>\n",
       "      <td>GAME</td>\n",
       "      <td>Paid</td>\n",
       "    </tr>\n",
       "    <tr>\n",
       "      <td>9170</td>\n",
       "      <td>Stickman Legends: Shadow Wars</td>\n",
       "      <td>1 Million</td>\n",
       "      <td>GAME</td>\n",
       "      <td>Paid</td>\n",
       "    </tr>\n",
       "    <tr>\n",
       "      <td>9165</td>\n",
       "      <td>League of Stickman 2018- Ninja Arena PVP(Dream...</td>\n",
       "      <td>1 Million</td>\n",
       "      <td>GAME</td>\n",
       "      <td>Paid</td>\n",
       "    </tr>\n",
       "    <tr>\n",
       "      <td>9151</td>\n",
       "      <td>Lost Journey (Dreamsky)</td>\n",
       "      <td>1 Million</td>\n",
       "      <td>GAME</td>\n",
       "      <td>Paid</td>\n",
       "    </tr>\n",
       "    <tr>\n",
       "      <td>3405</td>\n",
       "      <td>HD Widgets</td>\n",
       "      <td>1 Million</td>\n",
       "      <td>PERSONALIZATION</td>\n",
       "      <td>Paid</td>\n",
       "    </tr>\n",
       "    <tr>\n",
       "      <td>2883</td>\n",
       "      <td>Facetune - For Free</td>\n",
       "      <td>1 Million</td>\n",
       "      <td>PHOTOGRAPHY</td>\n",
       "      <td>Paid</td>\n",
       "    </tr>\n",
       "  </tbody>\n",
       "</table>\n",
       "</div>"
      ],
      "text/plain": [
       "                                                    App    Installs  \\\n",
       "2241                                          Minecraft  10 Million   \n",
       "8860                                        Bloons TD 5   1 Million   \n",
       "6675                               Infinity Dungeon VIP   1 Million   \n",
       "2242                         Card Wars - Adventure Time   1 Million   \n",
       "9678                                  Where's My Water?   1 Million   \n",
       "4260                                  Cut the Rope GOLD   1 Million   \n",
       "4034                                      Hitman Sniper  10 Million   \n",
       "5631                            Five Nights at Freddy's   1 Million   \n",
       "7417                      Grand Theft Auto: San Andreas   1 Million   \n",
       "4842           Zombie Avengers:(Dreamsky)Stickman War Z   1 Million   \n",
       "9170                      Stickman Legends: Shadow Wars   1 Million   \n",
       "9165  League of Stickman 2018- Ninja Arena PVP(Dream...   1 Million   \n",
       "9151                            Lost Journey (Dreamsky)   1 Million   \n",
       "3405                                         HD Widgets   1 Million   \n",
       "2883                                Facetune - For Free   1 Million   \n",
       "\n",
       "             Category  Type  \n",
       "2241           FAMILY  Paid  \n",
       "8860           FAMILY  Paid  \n",
       "6675           FAMILY  Paid  \n",
       "2242           FAMILY  Paid  \n",
       "9678           FAMILY  Paid  \n",
       "4260           FAMILY  Paid  \n",
       "4034             GAME  Paid  \n",
       "5631             GAME  Paid  \n",
       "7417             GAME  Paid  \n",
       "4842             GAME  Paid  \n",
       "9170             GAME  Paid  \n",
       "9165             GAME  Paid  \n",
       "9151             GAME  Paid  \n",
       "3405  PERSONALIZATION  Paid  \n",
       "2883      PHOTOGRAPHY  Paid  "
      ]
     },
     "execution_count": 11,
     "metadata": {},
     "output_type": "execute_result"
    }
   ],
   "source": [
    "top_installed_paid_apps = eda.get_top_installed_paid_apps(df)\n",
    "top_installed_paid_apps"
   ]
  },
  {
   "cell_type": "markdown",
   "metadata": {},
   "source": [
    "### Reviews & Installs"
   ]
  },
  {
   "cell_type": "code",
   "execution_count": null,
   "metadata": {},
   "outputs": [],
   "source": [
    "import reviews as rv\n",
    "\n",
    "rv.show_reviewsVsinstalls_lineplot(df)"
   ]
  },
  {
   "cell_type": "code",
   "execution_count": null,
   "metadata": {},
   "outputs": [],
   "source": [
    "rv.show_reviewsVsinstalls_lmplot(df)"
   ]
  },
  {
   "cell_type": "markdown",
   "metadata": {},
   "source": [
    "Here is the correlation we are searching for! The Reviews, unlike Rating, describe the Installs in a linear way."
   ]
  },
  {
   "cell_type": "markdown",
   "metadata": {},
   "source": [
    "### Installs and ratings review:"
   ]
  },
  {
   "cell_type": "code",
   "execution_count": null,
   "metadata": {},
   "outputs": [],
   "source": [
    "import installs as ins\n",
    "\n",
    "ins.show_installsVsratings(df)"
   ]
  },
  {
   "cell_type": "markdown",
   "metadata": {},
   "source": [
    "So it seems that a Rating between 2.8 and 4.8 is desirable. But over 4.8 the Installations drop significantly and that makes sense. Imagine a Youtube video with millions of views. There is no way to have 100% likes. But a video with only a few views (as many as youtuber's friends and relatives :P ), is quite possible to have zero dislikes. That is what exactly happens with such high Ratings!"
   ]
  },
  {
   "cell_type": "markdown",
   "metadata": {},
   "source": [
    "### Size & Installs:"
   ]
  },
  {
   "cell_type": "code",
   "execution_count": null,
   "metadata": {},
   "outputs": [],
   "source": [
    "ins.show_installsVssize(df)"
   ]
  },
  {
   "cell_type": "markdown",
   "metadata": {},
   "source": [
    "After viewing this graph, we can conclude that as Installs increase, the size increases as well. But why is that? One of the most appealing things in an app is its appearance. Realistic pictures, 3D models, dazzling animations and beautiful music make up for a more pleasant experience to the user. But all of the above seriously increase the size of the app . So this graph basically says: Your app has to be beautiful!"
   ]
  },
  {
   "cell_type": "markdown",
   "metadata": {},
   "source": [
    "## Ratings\n",
    "\n",
    "###  Average rating of apps:\n",
    "\n",
    "Do any apps perform really good or really bad?\n",
    "\n",
    "https://stackoverflow.com/questions/40629949/python-plotly-multiple-histogram-with-mean-line\n",
    "\n",
    "https://plot.ly/python/histograms/\n",
    "https://plot.ly/python/reference/#histogram"
   ]
  },
  {
   "cell_type": "code",
   "execution_count": null,
   "metadata": {},
   "outputs": [],
   "source": [
    "data = [go.Histogram(\n",
    "        x = df.Rating,\n",
    "        xbins = {'start': 1, 'size': 0.1, 'end' :5}\n",
    ")]\n",
    "\n",
    "print('Average app rating = ', np.mean(df['Rating']))"
   ]
  },
  {
   "cell_type": "markdown",
   "metadata": {},
   "source": [
    "### App ratings across categories - One Way Anova Test:"
   ]
  },
  {
   "cell_type": "markdown",
   "metadata": {},
   "source": [
    "https://docs.scipy.org/doc/scipy/reference/stats.html#module-scipy.stats\n",
    "\n",
    "scipy.stats.f_oneway\n",
    "\n",
    "scipy.stats.f_oneway(*args)\n",
    "\n",
    "Perform one-way ANOVA.\n",
    "\n",
    "The one-way ANOVA tests the null hypothesis that two or more groups have the same population mean. The test is applied to samples from two or more groups, possibly with differing sizes.\n",
    "\n",
    "Parameters:\n",
    "\n",
    "sample1, sample2, …array_like - The sample measurements for each group.\n",
    "\n",
    "Returns:\n",
    "\n",
    "statisticfloat - The computed F-value of the test.\n",
    "\n",
    "pvaluefloat - The associated p-value from the F-distribution."
   ]
  },
  {
   "cell_type": "code",
   "execution_count": null,
   "metadata": {},
   "outputs": [],
   "source": [
    "import ratings as rt\n",
    "\n",
    "rt.show_ratings_across_categories(df)"
   ]
  },
  {
   "cell_type": "markdown",
   "metadata": {},
   "source": [
    "The average app ratings across categories is significantly different."
   ]
  },
  {
   "cell_type": "markdown",
   "metadata": {},
   "source": [
    "### Sizing Strategy - Light or bulky? \n",
    "\n",
    "How do app sizes impact the app rating?"
   ]
  },
  {
   "cell_type": "code",
   "execution_count": null,
   "metadata": {},
   "outputs": [],
   "source": [
    "plt.figure(figsize = (10,10))\n",
    "sns.set_style(\"darkgrid\")\n",
    "g = sns.jointplot(x=\"Size\", y=\"Rating\",color = 'orange', data=df,size = 8);"
   ]
  },
  {
   "cell_type": "markdown",
   "metadata": {},
   "source": [
    "Most top rated apps are optimally sized between **~2MB to ~40MB** - neither too light nor too bulky"
   ]
  },
  {
   "cell_type": "markdown",
   "metadata": {},
   "source": [
    "### Pricing Strategy - Free Vs Paid?\n",
    "\n",
    "How do app prices impact app rating?"
   ]
  },
  {
   "cell_type": "code",
   "execution_count": null,
   "metadata": {},
   "outputs": [],
   "source": [
    "import pricing as pc\n",
    "pc.show_priceVsrating(df)"
   ]
  },
  {
   "cell_type": "code",
   "execution_count": null,
   "metadata": {},
   "outputs": [],
   "source": [
    "pc.show_priceVssize(df)"
   ]
  },
  {
   "cell_type": "markdown",
   "metadata": {},
   "source": [
    "Most top rated apps are optimally priced between 1 to 30. There are only a very few apps priced above 20\\$."
   ]
  },
  {
   "cell_type": "markdown",
   "metadata": {},
   "source": [
    "### Current pricing trend - How to price your app?"
   ]
  },
  {
   "cell_type": "code",
   "execution_count": null,
   "metadata": {},
   "outputs": [],
   "source": [
    "pc.show_priceVscategory(df)"
   ]
  },
  {
   "cell_type": "markdown",
   "metadata": {},
   "source": [
    "There are some apps priced above 250\\$ !!!  Let's examine what these apps are."
   ]
  },
  {
   "cell_type": "code",
   "execution_count": null,
   "metadata": {},
   "outputs": [],
   "source": [
    "highest_priced_Apps = df.sort_values(by=['Price'], ascending=False)\n",
    "highest_priced_Apps[['App', 'Price', 'Category']][:15]"
   ]
  },
  {
   "cell_type": "markdown",
   "metadata": {},
   "source": [
    "Some of the apps are for specific purpose"
   ]
  },
  {
   "cell_type": "code",
   "execution_count": null,
   "metadata": {},
   "outputs": [],
   "source": [
    "ab = df[df.Price < 100].sort_values(by=['Price'], ascending=False)\n",
    "ab[['App','Price', 'Category','Rating','Installs']][:10]"
   ]
  },
  {
   "cell_type": "code",
   "execution_count": null,
   "metadata": {},
   "outputs": [],
   "source": [
    "pc.show_priceVscategory_filtered(df)"
   ]
  },
  {
   "cell_type": "markdown",
   "metadata": {},
   "source": [
    "- Clearly, **Medical and Family apps** are the most expensive. Some medical apps extend even upto 80\\$.\n",
    "\n",
    "\n",
    "- All other apps are priced under 30\\$.\n",
    "\n",
    "\n",
    "- Surprisingly, **all game apps are reasonably priced below 20\\$.**"
   ]
  },
  {
   "cell_type": "markdown",
   "metadata": {},
   "source": [
    "### Distribution of paid and free apps across categories:"
   ]
  },
  {
   "cell_type": "code",
   "execution_count": null,
   "metadata": {},
   "outputs": [],
   "source": [
    "pc.show_freeVspaid_distri_categories(df)"
   ]
  }
 ],
 "metadata": {
  "kernelspec": {
   "display_name": "Python 3",
   "language": "python",
   "name": "python3"
  },
  "language_info": {
   "codemirror_mode": {
    "name": "ipython",
    "version": 3
   },
   "file_extension": ".py",
   "mimetype": "text/x-python",
   "name": "python",
   "nbconvert_exporter": "python",
   "pygments_lexer": "ipython3",
   "version": "3.7.4"
  }
 },
 "nbformat": 4,
 "nbformat_minor": 2
}
